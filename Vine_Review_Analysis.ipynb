{
  "nbformat": 4,
  "nbformat_minor": 0,
  "metadata": {
    "colab": {
      "provenance": [],
      "collapsed_sections": []
    },
    "kernelspec": {
      "name": "python3",
      "display_name": "Python 3"
    },
    "language_info": {
      "name": "python"
    }
  },
  "cells": [
    {
      "cell_type": "code",
      "execution_count": 1,
      "metadata": {
        "colab": {
          "base_uri": "https://localhost:8080/"
        },
        "id": "rfhy8ekrVwJg",
        "outputId": "8a31cc19-1636-40e1-8f69-d1dcfe91a2a1"
      },
      "outputs": [
        {
          "output_type": "stream",
          "name": "stdout",
          "text": [
            "Hit:1 https://cloud.r-project.org/bin/linux/ubuntu bionic-cran40/ InRelease\n",
            "Ign:2 https://developer.download.nvidia.com/compute/machine-learning/repos/ubuntu1804/x86_64  InRelease\n",
            "Get:3 http://security.ubuntu.com/ubuntu bionic-security InRelease [88.7 kB]\n",
            "Get:4 https://developer.download.nvidia.com/compute/cuda/repos/ubuntu1804/x86_64  InRelease [1,581 B]\n",
            "Hit:5 https://developer.download.nvidia.com/compute/machine-learning/repos/ubuntu1804/x86_64  Release\n",
            "Hit:6 http://ppa.launchpad.net/c2d4u.team/c2d4u4.0+/ubuntu bionic InRelease\n",
            "Hit:7 http://archive.ubuntu.com/ubuntu bionic InRelease\n",
            "Get:8 http://archive.ubuntu.com/ubuntu bionic-updates InRelease [88.7 kB]\n",
            "Hit:9 http://ppa.launchpad.net/cran/libgit2/ubuntu bionic InRelease\n",
            "Get:10 https://developer.download.nvidia.com/compute/cuda/repos/ubuntu1804/x86_64  Packages [946 kB]\n",
            "Hit:11 http://ppa.launchpad.net/deadsnakes/ppa/ubuntu bionic InRelease\n",
            "Get:12 http://archive.ubuntu.com/ubuntu bionic-backports InRelease [83.3 kB]\n",
            "Hit:13 http://ppa.launchpad.net/graphics-drivers/ppa/ubuntu bionic InRelease\n",
            "Fetched 1,208 kB in 4s (312 kB/s)\n",
            "Reading package lists... Done\n"
          ]
        }
      ],
      "source": [
        "import os\n",
        "# Find the latest version of spark 3.0 from http://www.apache.org/dist/spark/ and enter as the spark version\n",
        "# For example:\n",
        "# spark_version = 'spark-3.1.3'\n",
        "spark_version = 'spark-3.1.3'\n",
        "os.environ['SPARK_VERSION']=spark_version\n",
        "\n",
        "# Install Spark and Java\n",
        "!apt-get update\n",
        "!apt-get install openjdk-11-jdk-headless -qq > /dev/null\n",
        "!wget -q http://www.apache.org/dist/spark/$SPARK_VERSION/$SPARK_VERSION-bin-hadoop2.7.tgz\n",
        "!tar xf $SPARK_VERSION-bin-hadoop2.7.tgz\n",
        "!pip install -q findspark\n",
        "\n",
        "# Set Environment Variables\n",
        "import os\n",
        "os.environ[\"JAVA_HOME\"] = \"/usr/lib/jvm/java-11-openjdk-amd64\"\n",
        "os.environ[\"SPARK_HOME\"] = f\"/content/{spark_version}-bin-hadoop2.7\"\n",
        "\n",
        "# Start a SparkSession\n",
        "import findspark\n",
        "findspark.init()"
      ]
    },
    {
      "cell_type": "code",
      "source": [
        "from pyspark.sql import SparkSession\n",
        "spark = SparkSession.builder.appName(\"M16-Amazon-Challenge\").config(\"spark.driver.extraClassPath\",\"/content/postgresql-42.2.16.jar\").getOrCreate()"
      ],
      "metadata": {
        "id": "Y8cxBAk8YYHE"
      },
      "execution_count": 2,
      "outputs": []
    },
    {
      "cell_type": "code",
      "source": [
        "from pyspark import SparkFiles\n",
        "url = \"https://s3.amazonaws.com/amazon-reviews-pds/tsv/amazon_reviews_us_Shoes_v1_00.tsv.gz\"\n",
        "spark.sparkContext.addFile(url)\n",
        "df = spark.read.option(\"encoding\", \"UTF-8\").csv(SparkFiles.get(\"\"), sep=\"\\t\", header=True, inferSchema=True)\n",
        "df.show()"
      ],
      "metadata": {
        "colab": {
          "base_uri": "https://localhost:8080/"
        },
        "id": "D29niKbOV_-t",
        "outputId": "49afa1fe-eba1-4ece-f49f-22fcd6c3d198"
      },
      "execution_count": 3,
      "outputs": [
        {
          "output_type": "stream",
          "name": "stdout",
          "text": [
            "+-----------+-----------+--------------+----------+--------------+--------------------+----------------+-----------+-------------+-----------+----+-----------------+--------------------+--------------------+-----------+\n",
            "|marketplace|customer_id|     review_id|product_id|product_parent|       product_title|product_category|star_rating|helpful_votes|total_votes|vine|verified_purchase|     review_headline|         review_body|review_date|\n",
            "+-----------+-----------+--------------+----------+--------------+--------------------+----------------+-----------+-------------+-----------+----+-----------------+--------------------+--------------------+-----------+\n",
            "|         US|   18069663|R3P2HIOQCIN5ZU|B000XB31C0|     265024781|Minnetonka Men's ...|           Shoes|          1|            0|          0|   N|                Y|                   .|Do not buy: reall...| 2015-08-31|\n",
            "|         US|   16251825|R12VVR0WH5Q24V|B00CFYZH5W|     259035853|Teva Men's Pajaro...|           Shoes|          5|            0|          0|   N|                Y|     super flip flop|provides great cu...| 2015-08-31|\n",
            "|         US|   20381037| RNCCKB6TV5EEF|B00S8JNN3Q|     666066660|Anne Klein Perfec...|           Shoes|          4|            0|          0|   N|                Y| Great clutch purse!|It's perfect if y...| 2015-08-31|\n",
            "|         US|     108364|R2NZXYIVCGB13W|B00XFBPOQG|     448483263|adidas Men's 10K ...|           Shoes|          5|            0|          6|   N|                Y|              Badass|  Getting what u see| 2015-08-31|\n",
            "|         US|   45449350|R2EQ1TG9IT3OEQ|B00SW64Y9W|       7853171|OverBling Sneaker...|           Shoes|          3|            0|          0|   N|                Y|         Three Stars|               small| 2015-08-31|\n",
            "|         US|   19324665|R1WXA9JSC2H1U1|B011F9E6LI|      14311457|MESSI 15.3 FG/AG ...|           Shoes|          5|            1|          1|   N|                Y|          Five Stars|My 13 year old so...| 2015-08-31|\n",
            "|         US|   50073594|R12ENYLFGGNWRV|B00HAUP1OI|     264821602|Hoka One One Men'...|           Shoes|          5|            1|          1|   N|                Y|Finally, some cus...|Ok, I have been s...| 2015-08-31|\n",
            "|         US|   21706057|R2R07E5PNXEUO5|B00L1RKOKW|     767118055|Olukai Nohea Mesh...|           Shoes|          4|            0|          0|   N|                Y|good deal, but ha...|I went a full siz...| 2015-08-31|\n",
            "|         US|   13708216|R27BA52AKWMWN3|B005WA9MSE|     813856438|Carolina Mens 6\" ...|           Shoes|          5|            0|          0|   N|                Y|... would have to...|I would have to s...| 2015-08-31|\n",
            "|         US|   40542649| RLF8DOID2KD5O|B00BEYQI5C|     661491213|Alegria Women's S...|           Shoes|          3|            0|          0|   N|                Y|           Too small|The size is misle...| 2015-08-31|\n",
            "|         US|   13409446|R369CEXHXHC6NQ|B00EYAFTCQ|     332158165|Naturalizer Women...|           Shoes|          5|            0|          0|   N|                Y|          Five Stars|These shoes are v...| 2015-08-31|\n",
            "|         US|    9451727|R171PPIJXFONVI|B00I0QHY32|      49243908|Forever Link Wome...|           Shoes|          5|            0|          0|   N|                Y|          Five Stars|I love these sand...| 2015-08-31|\n",
            "|         US|     193731|R2JDNM8F2P06FU|B010FZZKYA|     161497902|Versace Collectio...|           Shoes|          4|            1|          1|   N|                Y|          Four Stars|Good quality shoe...| 2015-08-31|\n",
            "|         US|   34798634|R2W977FO4M97XT|B00V8B30K2|     759958795|Twisted Girl's Ch...|           Shoes|          5|            0|          1|   N|                Y|Good shoes, comfo...|My daughter reall...| 2015-08-31|\n",
            "|         US|   37235551|R3AM24QPLI28UY|B00LAVB1TC|     910150896|Travel Smart Hand...|           Shoes|          2|            1|          2|   N|                Y|           Two Stars|         It's okay .| 2015-08-31|\n",
            "|         US|   27081399| REDVXSFYVNT5T|B003C1P8B0|     762792587|Saucony Originals...|           Shoes|          5|            0|          0|   N|                Y|    Love these shoes|Love these shoes!...| 2015-08-31|\n",
            "|         US|     120678|R14AIIK7D6ENDZ|B000W3UL7W|     123724495|Dr. Marten's Wome...|           Shoes|          5|            0|          0|   N|                Y|          Five Stars|                Good| 2015-08-31|\n",
            "|         US|   22272389|R3B1NURKMCVAL1|B00LX65PQO|     848850234|Skechers Performa...|           Shoes|          3|            2|          2|   N|                Y|         Three Stars|I like the go wal...| 2015-08-31|\n",
            "|         US|   19584241|R14Q1GZGV10IMX|B00BEE7N3I|     211637196|Hi-Tec Kid's Nepa...|           Shoes|          4|            0|          0|   N|                Y|          Four Stars|Kids love them fo...| 2015-08-31|\n",
            "|         US|   12334573| R9BHBB06QD6TM|B008NCHMBW|     138572112|Foot Sox Original...|           Shoes|          1|            2|          2|   N|                Y|Tissue paper is t...|Tissue paper is t...| 2015-08-31|\n",
            "+-----------+-----------+--------------+----------+--------------+--------------------+----------------+-----------+-------------+-----------+----+-----------------+--------------------+--------------------+-----------+\n",
            "only showing top 20 rows\n",
            "\n"
          ]
        }
      ]
    },
    {
      "cell_type": "code",
      "source": [
        "# Recreate vine_table\n",
        "vine_table_df = df.select([\"review_id\", \"star_rating\", \"helpful_votes\", \"total_votes\", \"vine\", \"verified_purchase\"])\n",
        "vine_table_df.show()"
      ],
      "metadata": {
        "colab": {
          "base_uri": "https://localhost:8080/"
        },
        "id": "TNs1Dca72Ocw",
        "outputId": "3a61b153-0a16-49b2-fe27-4682ad716e05"
      },
      "execution_count": 4,
      "outputs": [
        {
          "output_type": "stream",
          "name": "stdout",
          "text": [
            "+--------------+-----------+-------------+-----------+----+-----------------+\n",
            "|     review_id|star_rating|helpful_votes|total_votes|vine|verified_purchase|\n",
            "+--------------+-----------+-------------+-----------+----+-----------------+\n",
            "|R3P2HIOQCIN5ZU|          1|            0|          0|   N|                Y|\n",
            "|R12VVR0WH5Q24V|          5|            0|          0|   N|                Y|\n",
            "| RNCCKB6TV5EEF|          4|            0|          0|   N|                Y|\n",
            "|R2NZXYIVCGB13W|          5|            0|          6|   N|                Y|\n",
            "|R2EQ1TG9IT3OEQ|          3|            0|          0|   N|                Y|\n",
            "|R1WXA9JSC2H1U1|          5|            1|          1|   N|                Y|\n",
            "|R12ENYLFGGNWRV|          5|            1|          1|   N|                Y|\n",
            "|R2R07E5PNXEUO5|          4|            0|          0|   N|                Y|\n",
            "|R27BA52AKWMWN3|          5|            0|          0|   N|                Y|\n",
            "| RLF8DOID2KD5O|          3|            0|          0|   N|                Y|\n",
            "|R369CEXHXHC6NQ|          5|            0|          0|   N|                Y|\n",
            "|R171PPIJXFONVI|          5|            0|          0|   N|                Y|\n",
            "|R2JDNM8F2P06FU|          4|            1|          1|   N|                Y|\n",
            "|R2W977FO4M97XT|          5|            0|          1|   N|                Y|\n",
            "|R3AM24QPLI28UY|          2|            1|          2|   N|                Y|\n",
            "| REDVXSFYVNT5T|          5|            0|          0|   N|                Y|\n",
            "|R14AIIK7D6ENDZ|          5|            0|          0|   N|                Y|\n",
            "|R3B1NURKMCVAL1|          3|            2|          2|   N|                Y|\n",
            "|R14Q1GZGV10IMX|          4|            0|          0|   N|                Y|\n",
            "| R9BHBB06QD6TM|          1|            2|          2|   N|                Y|\n",
            "+--------------+-----------+-------------+-----------+----+-----------------+\n",
            "only showing top 20 rows\n",
            "\n"
          ]
        }
      ]
    },
    {
      "cell_type": "code",
      "source": [
        "# Filter data and create new DataFrame for total_votes count greater than or equal to 20.\n",
        "total_votes_df = vine_table_df.filter(\"total_votes>=20\")\n",
        "total_votes_df.show()"
      ],
      "metadata": {
        "colab": {
          "base_uri": "https://localhost:8080/"
        },
        "id": "k8PlLVK5Yu90",
        "outputId": "4264fe41-d519-44f6-bb73-4735944af3d3"
      },
      "execution_count": 5,
      "outputs": [
        {
          "output_type": "stream",
          "name": "stdout",
          "text": [
            "+--------------+-----------+-------------+-----------+----+-----------------+\n",
            "|     review_id|star_rating|helpful_votes|total_votes|vine|verified_purchase|\n",
            "+--------------+-----------+-------------+-----------+----+-----------------+\n",
            "|R37F42INKX7L9K|          5|           45|         49|   N|                Y|\n",
            "|R2EHKYNEP8WVSR|          5|           25|         25|   N|                Y|\n",
            "| RXOS7BHID0UHL|          5|           16|         27|   N|                N|\n",
            "|R33HHGFPB403GM|          5|           19|         21|   N|                Y|\n",
            "| RY9O9XNLP464N|          2|           19|         22|   N|                Y|\n",
            "|R2VP11C28JAEZF|          5|           30|         30|   N|                Y|\n",
            "|R1TXGR1HA2M3P3|          5|           28|         29|   N|                Y|\n",
            "| R6OD85TMEMHQQ|          5|           28|         28|   N|                Y|\n",
            "|R1G4PAJXP3FTN7|          2|           43|         51|   N|                Y|\n",
            "|R2P2S8UGUMCOLX|          5|           21|         22|   N|                Y|\n",
            "| RBTQKXGJ9RP7C|          1|           33|         33|   N|                Y|\n",
            "|R342L93CXGDZO5|          2|           73|         76|   N|                Y|\n",
            "|R31Z97KFD4HMNF|          3|           23|         26|   N|                Y|\n",
            "|R2NDB7EQLYK87A|          5|           44|         46|   N|                Y|\n",
            "|R1C0W0OSBCVXC2|          1|           45|         46|   N|                Y|\n",
            "|R154Q41ID7FTFC|          5|           24|         26|   N|                Y|\n",
            "|R3GFX9ZNZ0T3TA|          1|           35|         35|   N|                Y|\n",
            "|R2H8MH0N2IZKMY|          5|           22|         23|   N|                Y|\n",
            "|R1MYE8WQ3812L8|          5|           17|         20|   N|                Y|\n",
            "| RYSL8MU2858GB|          5|           71|         73|   N|                Y|\n",
            "+--------------+-----------+-------------+-----------+----+-----------------+\n",
            "only showing top 20 rows\n",
            "\n"
          ]
        }
      ]
    },
    {
      "cell_type": "code",
      "source": [
        "# Create new DataFrame for helpful_votes\n",
        "helpful_votes_df = total_votes_df.filter(\"helpful_votes/total_votes>=.50\")\n",
        "helpful_votes_df.show()"
      ],
      "metadata": {
        "colab": {
          "base_uri": "https://localhost:8080/"
        },
        "id": "-XYq6U6tb6Nx",
        "outputId": "70ae2f35-e467-47d3-ce96-500de6db83b7"
      },
      "execution_count": 6,
      "outputs": [
        {
          "output_type": "stream",
          "name": "stdout",
          "text": [
            "+--------------+-----------+-------------+-----------+----+-----------------+\n",
            "|     review_id|star_rating|helpful_votes|total_votes|vine|verified_purchase|\n",
            "+--------------+-----------+-------------+-----------+----+-----------------+\n",
            "|R37F42INKX7L9K|          5|           45|         49|   N|                Y|\n",
            "|R2EHKYNEP8WVSR|          5|           25|         25|   N|                Y|\n",
            "| RXOS7BHID0UHL|          5|           16|         27|   N|                N|\n",
            "|R33HHGFPB403GM|          5|           19|         21|   N|                Y|\n",
            "| RY9O9XNLP464N|          2|           19|         22|   N|                Y|\n",
            "|R2VP11C28JAEZF|          5|           30|         30|   N|                Y|\n",
            "|R1TXGR1HA2M3P3|          5|           28|         29|   N|                Y|\n",
            "| R6OD85TMEMHQQ|          5|           28|         28|   N|                Y|\n",
            "|R1G4PAJXP3FTN7|          2|           43|         51|   N|                Y|\n",
            "|R2P2S8UGUMCOLX|          5|           21|         22|   N|                Y|\n",
            "| RBTQKXGJ9RP7C|          1|           33|         33|   N|                Y|\n",
            "|R342L93CXGDZO5|          2|           73|         76|   N|                Y|\n",
            "|R31Z97KFD4HMNF|          3|           23|         26|   N|                Y|\n",
            "|R2NDB7EQLYK87A|          5|           44|         46|   N|                Y|\n",
            "|R1C0W0OSBCVXC2|          1|           45|         46|   N|                Y|\n",
            "|R154Q41ID7FTFC|          5|           24|         26|   N|                Y|\n",
            "|R3GFX9ZNZ0T3TA|          1|           35|         35|   N|                Y|\n",
            "|R2H8MH0N2IZKMY|          5|           22|         23|   N|                Y|\n",
            "|R1MYE8WQ3812L8|          5|           17|         20|   N|                Y|\n",
            "| RYSL8MU2858GB|          5|           71|         73|   N|                Y|\n",
            "+--------------+-----------+-------------+-----------+----+-----------------+\n",
            "only showing top 20 rows\n",
            "\n"
          ]
        }
      ]
    },
    {
      "cell_type": "code",
      "source": [
        "# Create new DataFrame for reviews written as part of the Vine program.\n",
        "vine_program_df = helpful_votes_df.filter(helpful_votes_df[\"vine\"] == \"Y\")\n",
        "vine_program_df.show()"
      ],
      "metadata": {
        "colab": {
          "base_uri": "https://localhost:8080/"
        },
        "id": "zM0GdzylfaI-",
        "outputId": "c541c697-3538-43df-d305-716c1054926e"
      },
      "execution_count": 7,
      "outputs": [
        {
          "output_type": "stream",
          "name": "stdout",
          "text": [
            "+--------------+-----------+-------------+-----------+----+-----------------+\n",
            "|     review_id|star_rating|helpful_votes|total_votes|vine|verified_purchase|\n",
            "+--------------+-----------+-------------+-----------+----+-----------------+\n",
            "|R2N45ZKRRZS856|          5|           21|         22|   Y|                N|\n",
            "| R5OMLMK13A8NS|          5|           34|         38|   Y|                N|\n",
            "|R2MPEQ4SPTEQNS|          4|          180|        184|   Y|                N|\n",
            "| RIR0D3KJ0CQ31|          4|           21|         21|   Y|                N|\n",
            "|R1SPWJDHUWWC5E|          5|           88|         98|   Y|                N|\n",
            "|R1X6M5XA3FT98W|          5|           24|         26|   Y|                N|\n",
            "|R37VCW6HA0Z72T|          5|           27|         28|   Y|                N|\n",
            "|R2XRYNV2SY3ZKL|          5|           53|         56|   Y|                N|\n",
            "|R1Y93KWKAX1P5N|          2|           26|         31|   Y|                N|\n",
            "|R2QVTDYYLTP8SL|          5|           21|         24|   Y|                N|\n",
            "|R3KOK2SH39BZU1|          3|           94|         96|   Y|                N|\n",
            "|R2VOM73EHLPXJW|          4|           35|         38|   Y|                N|\n",
            "|R3SEZS7BZEC69Y|          5|           16|         20|   Y|                N|\n",
            "|R1MJ5J272V19O6|          4|           49|         51|   Y|                N|\n",
            "|R3A7BQX1JDKOM5|          4|           20|         20|   Y|                N|\n",
            "|R1307JMPUEQXOW|          5|           31|         35|   Y|                N|\n",
            "| RXV0SDXE5B15T|          2|           39|         42|   Y|                N|\n",
            "| RBMDYE7LUH9FI|          5|           26|         32|   Y|                N|\n",
            "|R1N4W961QV59BV|          5|           25|         34|   Y|                N|\n",
            "|R11XKHFS4KQS3Z|          4|          205|        211|   Y|                N|\n",
            "+--------------+-----------+-------------+-----------+----+-----------------+\n",
            "only showing top 20 rows\n",
            "\n"
          ]
        }
      ]
    },
    {
      "cell_type": "code",
      "source": [
        "# Create new DataFrame for reviews not written as part of the Vine program.\n",
        "non_vine_df = helpful_votes_df.filter(helpful_votes_df[\"vine\"] == \"N\")\n",
        "non_vine_df.show()"
      ],
      "metadata": {
        "colab": {
          "base_uri": "https://localhost:8080/"
        },
        "id": "Zdqzl5f4jO0S",
        "outputId": "f771e613-97f4-49f4-e475-a73165fcdc77"
      },
      "execution_count": 8,
      "outputs": [
        {
          "output_type": "stream",
          "name": "stdout",
          "text": [
            "+--------------+-----------+-------------+-----------+----+-----------------+\n",
            "|     review_id|star_rating|helpful_votes|total_votes|vine|verified_purchase|\n",
            "+--------------+-----------+-------------+-----------+----+-----------------+\n",
            "|R37F42INKX7L9K|          5|           45|         49|   N|                Y|\n",
            "|R2EHKYNEP8WVSR|          5|           25|         25|   N|                Y|\n",
            "| RXOS7BHID0UHL|          5|           16|         27|   N|                N|\n",
            "|R33HHGFPB403GM|          5|           19|         21|   N|                Y|\n",
            "| RY9O9XNLP464N|          2|           19|         22|   N|                Y|\n",
            "|R2VP11C28JAEZF|          5|           30|         30|   N|                Y|\n",
            "|R1TXGR1HA2M3P3|          5|           28|         29|   N|                Y|\n",
            "| R6OD85TMEMHQQ|          5|           28|         28|   N|                Y|\n",
            "|R1G4PAJXP3FTN7|          2|           43|         51|   N|                Y|\n",
            "|R2P2S8UGUMCOLX|          5|           21|         22|   N|                Y|\n",
            "| RBTQKXGJ9RP7C|          1|           33|         33|   N|                Y|\n",
            "|R342L93CXGDZO5|          2|           73|         76|   N|                Y|\n",
            "|R31Z97KFD4HMNF|          3|           23|         26|   N|                Y|\n",
            "|R2NDB7EQLYK87A|          5|           44|         46|   N|                Y|\n",
            "|R1C0W0OSBCVXC2|          1|           45|         46|   N|                Y|\n",
            "|R154Q41ID7FTFC|          5|           24|         26|   N|                Y|\n",
            "|R3GFX9ZNZ0T3TA|          1|           35|         35|   N|                Y|\n",
            "|R2H8MH0N2IZKMY|          5|           22|         23|   N|                Y|\n",
            "|R1MYE8WQ3812L8|          5|           17|         20|   N|                Y|\n",
            "| RYSL8MU2858GB|          5|           71|         73|   N|                Y|\n",
            "+--------------+-----------+-------------+-----------+----+-----------------+\n",
            "only showing top 20 rows\n",
            "\n"
          ]
        }
      ]
    },
    {
      "cell_type": "code",
      "source": [
        "# Determine total number of reviews for Vine program reviews.\n",
        "total_paid_reviews_df = vine_program_df.agg({\"review_id\":\"count\"})\n",
        "total_paid_reviews_df.show()"
      ],
      "metadata": {
        "colab": {
          "base_uri": "https://localhost:8080/"
        },
        "id": "haFkXZHWjkrv",
        "outputId": "2ace379f-bb03-4d47-9f5f-8485f5738468"
      },
      "execution_count": 9,
      "outputs": [
        {
          "output_type": "stream",
          "name": "stdout",
          "text": [
            "+----------------+\n",
            "|count(review_id)|\n",
            "+----------------+\n",
            "|              22|\n",
            "+----------------+\n",
            "\n"
          ]
        }
      ]
    },
    {
      "cell_type": "code",
      "source": [
        "# Determine total number of reviews for non-Vine program reviews.\n",
        "total_unpaid_reviews_df = non_vine_df.agg({\"review_id\":\"count\"})\n",
        "total_unpaid_reviews_df.show()"
      ],
      "metadata": {
        "colab": {
          "base_uri": "https://localhost:8080/"
        },
        "id": "dr8c_JLvk6Lj",
        "outputId": "c13880c3-749b-4c21-d4ca-23474abb6a7b"
      },
      "execution_count": 10,
      "outputs": [
        {
          "output_type": "stream",
          "name": "stdout",
          "text": [
            "+----------------+\n",
            "|count(review_id)|\n",
            "+----------------+\n",
            "|           26987|\n",
            "+----------------+\n",
            "\n"
          ]
        }
      ]
    },
    {
      "cell_type": "code",
      "source": [
        "# Determine total number of of 5-star Vine reviews.\n",
        "total_fivestar_paid_reviews_df = vine_program_df.filter(\"star_rating==5\").agg({\"star_rating\":\"count\"})\n",
        "total_fivestar_paid_reviews_df.show()"
      ],
      "metadata": {
        "colab": {
          "base_uri": "https://localhost:8080/"
        },
        "id": "-xdWyxsKsYl-",
        "outputId": "9a24cb65-9193-4010-a92e-a1e30e8228e2"
      },
      "execution_count": 11,
      "outputs": [
        {
          "output_type": "stream",
          "name": "stdout",
          "text": [
            "+------------------+\n",
            "|count(star_rating)|\n",
            "+------------------+\n",
            "|                13|\n",
            "+------------------+\n",
            "\n"
          ]
        }
      ]
    },
    {
      "cell_type": "code",
      "source": [
        "# Determine total number of of 5-star non-Vine reviews.\n",
        "total_fivestar_unpaid_reviews_df = non_vine_df.filter(\"star_rating==5\").agg({\"star_rating\":\"count\"})\n",
        "total_fivestar_unpaid_reviews_df.show()"
      ],
      "metadata": {
        "colab": {
          "base_uri": "https://localhost:8080/"
        },
        "id": "kdeza5ZzscAY",
        "outputId": "af111ca3-7bd7-4787-d4ad-aac4e833a283"
      },
      "execution_count": 12,
      "outputs": [
        {
          "output_type": "stream",
          "name": "stdout",
          "text": [
            "+------------------+\n",
            "|count(star_rating)|\n",
            "+------------------+\n",
            "|             14475|\n",
            "+------------------+\n",
            "\n"
          ]
        }
      ]
    },
    {
      "cell_type": "code",
      "source": [
        "# Determine the percentage of 5-star Vine reviews.\n",
        "paid_reviews_percentage_df = total_paid_reviews_df.join(total_fivestar_paid_reviews_df, on=None, how=None)\n",
        "paid_reviews_percentage_df.withColumn(\"paid_reviews_percentage\", total_fivestar_paid_reviews_df[\"count(star_rating)\"] / total_paid_reviews_df[\"count(review_id)\"] * 100).select([\"paid_reviews_percentage\"]).show()\n"
      ],
      "metadata": {
        "colab": {
          "base_uri": "https://localhost:8080/"
        },
        "id": "awnDMDoPvOZR",
        "outputId": "6eb3e77b-d708-4ac6-d047-47bce466dcd2"
      },
      "execution_count": 13,
      "outputs": [
        {
          "output_type": "stream",
          "name": "stdout",
          "text": [
            "+-----------------------+\n",
            "|paid_reviews_percentage|\n",
            "+-----------------------+\n",
            "|      59.09090909090909|\n",
            "+-----------------------+\n",
            "\n"
          ]
        }
      ]
    },
    {
      "cell_type": "code",
      "source": [
        "# Determine the percentage of 5-star non-Vine reviews.\n",
        "unpaid_reviews_percentage_df = total_unpaid_reviews_df.join(total_fivestar_unpaid_reviews_df, on=None, how=None)\n",
        "unpaid_reviews_percentage_df.withColumn(\"unpaid_reviews_percentage\", total_fivestar_unpaid_reviews_df[\"count(star_rating)\"] / total_unpaid_reviews_df[\"count(review_id)\"] * 100).select(\"unpaid_reviews_percentage\").show()"
      ],
      "metadata": {
        "colab": {
          "base_uri": "https://localhost:8080/"
        },
        "id": "OVsO0MH-vOoy",
        "outputId": "5a8d7be5-4abf-4c0d-a7e6-4e2aadf26195"
      },
      "execution_count": 14,
      "outputs": [
        {
          "output_type": "stream",
          "name": "stdout",
          "text": [
            "+-------------------------+\n",
            "|unpaid_reviews_percentage|\n",
            "+-------------------------+\n",
            "|        53.63693630266425|\n",
            "+-------------------------+\n",
            "\n"
          ]
        }
      ]
    }
  ]
}